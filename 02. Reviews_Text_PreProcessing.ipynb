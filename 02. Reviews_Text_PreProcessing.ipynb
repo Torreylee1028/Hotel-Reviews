{
 "cells": [
  {
   "cell_type": "markdown",
   "metadata": {},
   "source": [
    "# Hotel Reviews: Text Pre-Processing"
   ]
  },
  {
   "cell_type": "markdown",
   "metadata": {},
   "source": [
    "## Packages"
   ]
  },
  {
   "cell_type": "code",
   "execution_count": 1,
   "metadata": {},
   "outputs": [],
   "source": [
    "import pandas as pd\n",
    "import numpy as np\n",
    "import re\n",
    "\n",
    "import nltk\n",
    "from nltk.corpus import stopwords\n",
    "from nltk.corpus import wordnet\n",
    "from nltk.stem import WordNetLemmatizer\n",
    "from nltk.tokenize import word_tokenize\n",
    "\n",
    "from textblob import TextBlob\n",
    "from spellchecker import SpellChecker\n",
    "from emot.emo_unicode import UNICODE_EMO, EMOTICONS\n",
    "\n",
    "from collections import Counter\n",
    "\n",
    "import warnings\n",
    "warnings.filterwarnings('ignore')"
   ]
  },
  {
   "cell_type": "markdown",
   "metadata": {},
   "source": [
    "## Data"
   ]
  },
  {
   "cell_type": "code",
   "execution_count": 2,
   "metadata": {},
   "outputs": [
    {
     "data": {
      "text/html": [
       "<div>\n",
       "<style scoped>\n",
       "    .dataframe tbody tr th:only-of-type {\n",
       "        vertical-align: middle;\n",
       "    }\n",
       "\n",
       "    .dataframe tbody tr th {\n",
       "        vertical-align: top;\n",
       "    }\n",
       "\n",
       "    .dataframe thead th {\n",
       "        text-align: right;\n",
       "    }\n",
       "</style>\n",
       "<table border=\"1\" class=\"dataframe\">\n",
       "  <thead>\n",
       "    <tr style=\"text-align: right;\">\n",
       "      <th></th>\n",
       "      <th>index</th>\n",
       "      <th>hotel_city</th>\n",
       "      <th>latitude</th>\n",
       "      <th>longitude</th>\n",
       "      <th>name</th>\n",
       "      <th>hotel_state</th>\n",
       "      <th>date</th>\n",
       "      <th>rating</th>\n",
       "      <th>text</th>\n",
       "      <th>user_city</th>\n",
       "      <th>user_state</th>\n",
       "      <th>language</th>\n",
       "      <th>score</th>\n",
       "    </tr>\n",
       "  </thead>\n",
       "  <tbody>\n",
       "    <tr>\n",
       "      <td>0</td>\n",
       "      <td>0</td>\n",
       "      <td>Mableton</td>\n",
       "      <td>45.421611</td>\n",
       "      <td>12.376187</td>\n",
       "      <td>Hotel Russo Palace</td>\n",
       "      <td>GA</td>\n",
       "      <td>2013-09-22 00:00:00+00:00</td>\n",
       "      <td>4.0</td>\n",
       "      <td>Pleasant 10 min walk along the sea front to th...</td>\n",
       "      <td>NaN</td>\n",
       "      <td>NaN</td>\n",
       "      <td>('en', -390.9012541770935)</td>\n",
       "      <td>positive</td>\n",
       "    </tr>\n",
       "    <tr>\n",
       "      <td>1</td>\n",
       "      <td>1</td>\n",
       "      <td>Mableton</td>\n",
       "      <td>45.421611</td>\n",
       "      <td>12.376187</td>\n",
       "      <td>Hotel Russo Palace</td>\n",
       "      <td>GA</td>\n",
       "      <td>2015-04-03 00:00:00+00:00</td>\n",
       "      <td>5.0</td>\n",
       "      <td>Really lovely hotel. Stayed on the very top fl...</td>\n",
       "      <td>NaN</td>\n",
       "      <td>NaN</td>\n",
       "      <td>('en', -535.3024659156799)</td>\n",
       "      <td>positive</td>\n",
       "    </tr>\n",
       "  </tbody>\n",
       "</table>\n",
       "</div>"
      ],
      "text/plain": [
       "   index hotel_city   latitude  longitude                name hotel_state  \\\n",
       "0      0   Mableton  45.421611  12.376187  Hotel Russo Palace          GA   \n",
       "1      1   Mableton  45.421611  12.376187  Hotel Russo Palace          GA   \n",
       "\n",
       "                        date  rating  \\\n",
       "0  2013-09-22 00:00:00+00:00     4.0   \n",
       "1  2015-04-03 00:00:00+00:00     5.0   \n",
       "\n",
       "                                                text user_city user_state  \\\n",
       "0  Pleasant 10 min walk along the sea front to th...       NaN        NaN   \n",
       "1  Really lovely hotel. Stayed on the very top fl...       NaN        NaN   \n",
       "\n",
       "                     language     score  \n",
       "0  ('en', -390.9012541770935)  positive  \n",
       "1  ('en', -535.3024659156799)  positive  "
      ]
     },
     "execution_count": 2,
     "metadata": {},
     "output_type": "execute_result"
    }
   ],
   "source": [
    "# read cleaned df\n",
    "\n",
    "hotel_df = pd.read_csv('data/hotel_reviews.csv')\n",
    "hotel_df.head(2)"
   ]
  },
  {
   "cell_type": "code",
   "execution_count": 3,
   "metadata": {},
   "outputs": [
    {
     "data": {
      "text/plain": [
       "(31670, 13)"
      ]
     },
     "execution_count": 3,
     "metadata": {},
     "output_type": "execute_result"
    }
   ],
   "source": [
    "hotel_df.shape"
   ]
  },
  {
   "cell_type": "code",
   "execution_count": 4,
   "metadata": {},
   "outputs": [
    {
     "data": {
      "text/html": [
       "<div>\n",
       "<style scoped>\n",
       "    .dataframe tbody tr th:only-of-type {\n",
       "        vertical-align: middle;\n",
       "    }\n",
       "\n",
       "    .dataframe tbody tr th {\n",
       "        vertical-align: top;\n",
       "    }\n",
       "\n",
       "    .dataframe thead th {\n",
       "        text-align: right;\n",
       "    }\n",
       "</style>\n",
       "<table border=\"1\" class=\"dataframe\">\n",
       "  <thead>\n",
       "    <tr style=\"text-align: right;\">\n",
       "      <th></th>\n",
       "      <th>score</th>\n",
       "      <th>text</th>\n",
       "    </tr>\n",
       "  </thead>\n",
       "  <tbody>\n",
       "    <tr>\n",
       "      <td>0</td>\n",
       "      <td>positive</td>\n",
       "      <td>Pleasant 10 min walk along the sea front to th...</td>\n",
       "    </tr>\n",
       "    <tr>\n",
       "      <td>1</td>\n",
       "      <td>positive</td>\n",
       "      <td>Really lovely hotel. Stayed on the very top fl...</td>\n",
       "    </tr>\n",
       "  </tbody>\n",
       "</table>\n",
       "</div>"
      ],
      "text/plain": [
       "      score                                               text\n",
       "0  positive  Pleasant 10 min walk along the sea front to th...\n",
       "1  positive  Really lovely hotel. Stayed on the very top fl..."
      ]
     },
     "execution_count": 4,
     "metadata": {},
     "output_type": "execute_result"
    }
   ],
   "source": [
    "# select only the rating score and text columns\n",
    "\n",
    "df = hotel_df[['score', 'text']]\n",
    "df.head(2)"
   ]
  },
  {
   "cell_type": "code",
   "execution_count": 5,
   "metadata": {},
   "outputs": [],
   "source": [
    "# create copy of original text column\n",
    "df.loc[:,'text_cln'] = df['text']"
   ]
  },
  {
   "cell_type": "code",
   "execution_count": 6,
   "metadata": {},
   "outputs": [
    {
     "data": {
      "text/html": [
       "<div>\n",
       "<style scoped>\n",
       "    .dataframe tbody tr th:only-of-type {\n",
       "        vertical-align: middle;\n",
       "    }\n",
       "\n",
       "    .dataframe tbody tr th {\n",
       "        vertical-align: top;\n",
       "    }\n",
       "\n",
       "    .dataframe thead th {\n",
       "        text-align: right;\n",
       "    }\n",
       "</style>\n",
       "<table border=\"1\" class=\"dataframe\">\n",
       "  <thead>\n",
       "    <tr style=\"text-align: right;\">\n",
       "      <th></th>\n",
       "      <th>score</th>\n",
       "      <th>text</th>\n",
       "      <th>text_cln</th>\n",
       "    </tr>\n",
       "  </thead>\n",
       "  <tbody>\n",
       "    <tr>\n",
       "      <td>0</td>\n",
       "      <td>positive</td>\n",
       "      <td>Pleasant 10 min walk along the sea front to th...</td>\n",
       "      <td>Pleasant 10 min walk along the sea front to th...</td>\n",
       "    </tr>\n",
       "    <tr>\n",
       "      <td>1</td>\n",
       "      <td>positive</td>\n",
       "      <td>Really lovely hotel. Stayed on the very top fl...</td>\n",
       "      <td>Really lovely hotel. Stayed on the very top fl...</td>\n",
       "    </tr>\n",
       "    <tr>\n",
       "      <td>2</td>\n",
       "      <td>positive</td>\n",
       "      <td>We stayed here for four nights in October. The...</td>\n",
       "      <td>We stayed here for four nights in October. The...</td>\n",
       "    </tr>\n",
       "    <tr>\n",
       "      <td>3</td>\n",
       "      <td>positive</td>\n",
       "      <td>We loved staying on the island of Lido! You ne...</td>\n",
       "      <td>We loved staying on the island of Lido! You ne...</td>\n",
       "    </tr>\n",
       "    <tr>\n",
       "      <td>4</td>\n",
       "      <td>positive</td>\n",
       "      <td>Lovely view out onto the lagoon. Excellent vie...</td>\n",
       "      <td>Lovely view out onto the lagoon. Excellent vie...</td>\n",
       "    </tr>\n",
       "    <tr>\n",
       "      <td>...</td>\n",
       "      <td>...</td>\n",
       "      <td>...</td>\n",
       "      <td>...</td>\n",
       "    </tr>\n",
       "    <tr>\n",
       "      <td>31665</td>\n",
       "      <td>positive</td>\n",
       "      <td>We truly enjoyed staying at the Elk Springs re...</td>\n",
       "      <td>We truly enjoyed staying at the Elk Springs re...</td>\n",
       "    </tr>\n",
       "    <tr>\n",
       "      <td>31666</td>\n",
       "      <td>positive</td>\n",
       "      <td>We were here for a 2nd time the last weekend o...</td>\n",
       "      <td>We were here for a 2nd time the last weekend o...</td>\n",
       "    </tr>\n",
       "    <tr>\n",
       "      <td>31667</td>\n",
       "      <td>positive</td>\n",
       "      <td>Best of the Best!!!! My family and I stayed in...</td>\n",
       "      <td>Best of the Best!!!! My family and I stayed in...</td>\n",
       "    </tr>\n",
       "    <tr>\n",
       "      <td>31668</td>\n",
       "      <td>positive</td>\n",
       "      <td>Amazing Vacation in Beautiful Cabin We stayed ...</td>\n",
       "      <td>Amazing Vacation in Beautiful Cabin We stayed ...</td>\n",
       "    </tr>\n",
       "    <tr>\n",
       "      <td>31669</td>\n",
       "      <td>positive</td>\n",
       "      <td>My husband and I stayed at Tree Tops which is ...</td>\n",
       "      <td>My husband and I stayed at Tree Tops which is ...</td>\n",
       "    </tr>\n",
       "  </tbody>\n",
       "</table>\n",
       "<p>31670 rows × 3 columns</p>\n",
       "</div>"
      ],
      "text/plain": [
       "          score                                               text  \\\n",
       "0      positive  Pleasant 10 min walk along the sea front to th...   \n",
       "1      positive  Really lovely hotel. Stayed on the very top fl...   \n",
       "2      positive  We stayed here for four nights in October. The...   \n",
       "3      positive  We loved staying on the island of Lido! You ne...   \n",
       "4      positive  Lovely view out onto the lagoon. Excellent vie...   \n",
       "...         ...                                                ...   \n",
       "31665  positive  We truly enjoyed staying at the Elk Springs re...   \n",
       "31666  positive  We were here for a 2nd time the last weekend o...   \n",
       "31667  positive  Best of the Best!!!! My family and I stayed in...   \n",
       "31668  positive  Amazing Vacation in Beautiful Cabin We stayed ...   \n",
       "31669  positive  My husband and I stayed at Tree Tops which is ...   \n",
       "\n",
       "                                                text_cln  \n",
       "0      Pleasant 10 min walk along the sea front to th...  \n",
       "1      Really lovely hotel. Stayed on the very top fl...  \n",
       "2      We stayed here for four nights in October. The...  \n",
       "3      We loved staying on the island of Lido! You ne...  \n",
       "4      Lovely view out onto the lagoon. Excellent vie...  \n",
       "...                                                  ...  \n",
       "31665  We truly enjoyed staying at the Elk Springs re...  \n",
       "31666  We were here for a 2nd time the last weekend o...  \n",
       "31667  Best of the Best!!!! My family and I stayed in...  \n",
       "31668  Amazing Vacation in Beautiful Cabin We stayed ...  \n",
       "31669  My husband and I stayed at Tree Tops which is ...  \n",
       "\n",
       "[31670 rows x 3 columns]"
      ]
     },
     "execution_count": 6,
     "metadata": {},
     "output_type": "execute_result"
    }
   ],
   "source": [
    "df"
   ]
  },
  {
   "cell_type": "code",
   "execution_count": 7,
   "metadata": {},
   "outputs": [
    {
     "data": {
      "text/plain": [
       "(31670, 3)"
      ]
     },
     "execution_count": 7,
     "metadata": {},
     "output_type": "execute_result"
    }
   ],
   "source": [
    "df.shape"
   ]
  },
  {
   "cell_type": "markdown",
   "metadata": {},
   "source": [
    "## Text Pre-Processing"
   ]
  },
  {
   "cell_type": "markdown",
   "metadata": {},
   "source": [
    "### Make Text Lower Case"
   ]
  },
  {
   "cell_type": "markdown",
   "metadata": {},
   "source": [
    "Make text lower case so words with mixed cases are treated as the same word and not two separate words."
   ]
  },
  {
   "cell_type": "code",
   "execution_count": 8,
   "metadata": {},
   "outputs": [],
   "source": [
    "df.loc[:,'text_cln'] = df.loc[:,'text_cln'].str.lower()"
   ]
  },
  {
   "cell_type": "code",
   "execution_count": 9,
   "metadata": {},
   "outputs": [
    {
     "data": {
      "text/plain": [
       "0     pleasant 10 min walk along the sea front to th...\n",
       "1     really lovely hotel. stayed on the very top fl...\n",
       "2     we stayed here for four nights in october. the...\n",
       "3     we loved staying on the island of lido! you ne...\n",
       "4     lovely view out onto the lagoon. excellent vie...\n",
       "5     it was ok hotel is nice from in and out but ro...\n",
       "6     the hotel staff was very friendly and helpful....\n",
       "7     nice hotel , with very friendly staff and help...\n",
       "8                                                   . .\n",
       "9     don't stay here unless you're less than 2 feet...\n",
       "10    we had absolutely no problems whatsoever with ...\n",
       "11    lovely hotel, 10 min walk to the water bus sto...\n",
       "12    located on the lido i would recommend this hot...\n",
       "13    great stay...close to ferry.food not so good n...\n",
       "14    stayed with parents, wife twin toddlers in two...\n",
       "15    this hotel is in lido which is a better choice...\n",
       "16    it was a 10 min+ walk to water bus, would have...\n",
       "17    room was tiny-bed saggy-bathroom door didn't w...\n",
       "18    very friendly and helpful with directions, kno...\n",
       "19    no shower but jets in the bathtub and my room ...\n",
       "Name: text_cln, dtype: object"
      ]
     },
     "execution_count": 9,
     "metadata": {},
     "output_type": "execute_result"
    }
   ],
   "source": [
    "df['text_cln'].head(20)"
   ]
  },
  {
   "cell_type": "markdown",
   "metadata": {},
   "source": [
    "### Remove Punctuations"
   ]
  },
  {
   "cell_type": "code",
   "execution_count": 10,
   "metadata": {},
   "outputs": [],
   "source": [
    "df.loc[:,'text_cln'] = df.loc[:,'text_cln'].str.replace('[^\\w\\s]',' ')"
   ]
  },
  {
   "cell_type": "code",
   "execution_count": 11,
   "metadata": {},
   "outputs": [
    {
     "data": {
      "text/plain": [
       "0     pleasant 10 min walk along the sea front to th...\n",
       "1     really lovely hotel  stayed on the very top fl...\n",
       "2     we stayed here for four nights in october  the...\n",
       "3     we loved staying on the island of lido  you ne...\n",
       "4     lovely view out onto the lagoon  excellent vie...\n",
       "5     it was ok hotel is nice from in and out but ro...\n",
       "6     the hotel staff was very friendly and helpful ...\n",
       "7     nice hotel   with very friendly staff and help...\n",
       "8                                                      \n",
       "9     don t stay here unless you re less than 2 feet...\n",
       "10    we had absolutely no problems whatsoever with ...\n",
       "11    lovely hotel  10 min walk to the water bus sto...\n",
       "12    located on the lido i would recommend this hot...\n",
       "13    great stay   close to ferry food not so good n...\n",
       "14    stayed with parents  wife twin toddlers in two...\n",
       "15    this hotel is in lido which is a better choice...\n",
       "16    it was a 10 min  walk to water bus  would have...\n",
       "17    room was tiny bed saggy bathroom door didn t w...\n",
       "18    very friendly and helpful with directions  kno...\n",
       "19    no shower but jets in the bathtub and my room ...\n",
       "Name: text_cln, dtype: object"
      ]
     },
     "execution_count": 11,
     "metadata": {},
     "output_type": "execute_result"
    }
   ],
   "source": [
    "df['text_cln'].head(20)"
   ]
  },
  {
   "cell_type": "markdown",
   "metadata": {},
   "source": [
    "### Remove Numbers & Strip Whitespace"
   ]
  },
  {
   "cell_type": "code",
   "execution_count": 12,
   "metadata": {},
   "outputs": [],
   "source": [
    "def remove_numbers(text):\n",
    "    \"\"\"Function to remove numbers and whitespace.\"\"\"\n",
    "    \n",
    "    # remove numbers\n",
    "    pattern = r'[^a-zA-z\\s*|\\s\\\\s]' \n",
    "    text2 = re.sub(pattern, '', text)\n",
    "    \n",
    "    # remove white space where number was at\n",
    "    pattern2 = r'^\\s*|\\s\\s*'\n",
    "    return re.sub(pattern2, ' ', text2).strip()"
   ]
  },
  {
   "cell_type": "code",
   "execution_count": 13,
   "metadata": {},
   "outputs": [
    {
     "data": {
      "text/plain": [
       "0     pleasant min walk along the sea front to the w...\n",
       "1     really lovely hotel stayed on the very top flo...\n",
       "2     we stayed here for four nights in october the ...\n",
       "3     we loved staying on the island of lido you nee...\n",
       "4     lovely view out onto the lagoon excellent view...\n",
       "5     it was ok hotel is nice from in and out but ro...\n",
       "6     the hotel staff was very friendly and helpful ...\n",
       "7     nice hotel with very friendly staff and helpfu...\n",
       "8                                                      \n",
       "9     don t stay here unless you re less than feet t...\n",
       "10    we had absolutely no problems whatsoever with ...\n",
       "11    lovely hotel min walk to the water bus stop on...\n",
       "12    located on the lido i would recommend this hot...\n",
       "13    great stay close to ferry food not so good nearby\n",
       "14    stayed with parents wife twin toddlers in two ...\n",
       "15    this hotel is in lido which is a better choice...\n",
       "16    it was a min walk to water bus would have like...\n",
       "17    room was tiny bed saggy bathroom door didn t w...\n",
       "18    very friendly and helpful with directions know...\n",
       "19    no shower but jets in the bathtub and my room ...\n",
       "Name: text_cln, dtype: object"
      ]
     },
     "execution_count": 13,
     "metadata": {},
     "output_type": "execute_result"
    }
   ],
   "source": [
    "df.loc[:,'text_cln'] = df.loc[:,'text_cln'].apply(lambda x: str(remove_numbers(x)))\n",
    "df['text_cln'].head(20)"
   ]
  },
  {
   "cell_type": "markdown",
   "metadata": {},
   "source": [
    "### Remove Emoji's and Emoitcons"
   ]
  },
  {
   "cell_type": "markdown",
   "metadata": {},
   "source": [
    "Emoticons are faces written with text :-)"
   ]
  },
  {
   "cell_type": "code",
   "execution_count": 14,
   "metadata": {},
   "outputs": [],
   "source": [
    "def emoji(string):\n",
    "    \"\"\"Function to remove emoji.\"\"\"\n",
    "    emoji_pattern = re.compile(\"[\"\n",
    "                           u\"\\U0001F600-\\U0001F64F\"  # emoticons\n",
    "                           u\"\\U0001F300-\\U0001F5FF\"  # symbols & pictographs\n",
    "                           u\"\\U0001F680-\\U0001F6FF\"  # transport & map symbols\n",
    "                           u\"\\U0001F1E0-\\U0001F1FF\"  # flags (iOS)\n",
    "                           u\"\\U00002702-\\U000027B0\"\n",
    "                           u\"\\U000024C2-\\U0001F251\"\n",
    "                           \"]+\", flags=re.UNICODE)\n",
    "    return emoji_pattern.sub(r'', string)\n",
    "\n",
    "def remove_emoticons(text):\n",
    "    \"\"\"Function to remove emoticons.\"\"\"\n",
    "    emoticon_pattern = re.compile(u'(' + u'|'.join(k for k in EMOTICONS) + u')')\n",
    "    return emoticon_pattern.sub(r'', text)"
   ]
  },
  {
   "cell_type": "code",
   "execution_count": 15,
   "metadata": {},
   "outputs": [],
   "source": [
    "# remove any emoji's\n",
    "df.loc[:,'text_cln'] = df.loc[:,'text_cln'].apply(lambda x: str(emoji(x)))"
   ]
  },
  {
   "cell_type": "code",
   "execution_count": 16,
   "metadata": {},
   "outputs": [],
   "source": [
    "# remove any emoticons\n",
    "df.loc[:,'text_cln'] = df.loc[:,'text_cln'].apply(lambda x: str(remove_emoticons(x)))"
   ]
  },
  {
   "cell_type": "markdown",
   "metadata": {},
   "source": [
    "### Remove URL's"
   ]
  },
  {
   "cell_type": "markdown",
   "metadata": {},
   "source": [
    "Just in case there are any URL's in the text, these will be removed."
   ]
  },
  {
   "cell_type": "code",
   "execution_count": 17,
   "metadata": {},
   "outputs": [],
   "source": [
    "def remove_urls(text):\n",
    "    \"\"\"Function to remove urls.\"\"\"\n",
    "    url_pattern = re.compile(r'https?://\\S+|www\\.\\S+')\n",
    "    return url_pattern.sub(r'', text)"
   ]
  },
  {
   "cell_type": "code",
   "execution_count": 18,
   "metadata": {},
   "outputs": [],
   "source": [
    "# remove any url's\n",
    "df.loc[:,'text_cln'] = df.loc[:,'text_cln'].apply(lambda x: str(remove_urls(x)))"
   ]
  },
  {
   "cell_type": "markdown",
   "metadata": {},
   "source": [
    "### Spell Check Words"
   ]
  },
  {
   "cell_type": "markdown",
   "metadata": {},
   "source": [
    "Make sure all misspelled words are treated as the correct spelled word."
   ]
  },
  {
   "cell_type": "code",
   "execution_count": 19,
   "metadata": {},
   "outputs": [],
   "source": [
    "spell = SpellChecker()"
   ]
  },
  {
   "cell_type": "code",
   "execution_count": 20,
   "metadata": {},
   "outputs": [],
   "source": [
    "df.loc[:,'text_cln'] = df.loc[:,'text_cln'].apply(lambda x: str(spell.correction(x)))"
   ]
  },
  {
   "cell_type": "code",
   "execution_count": 21,
   "metadata": {},
   "outputs": [],
   "source": [
    "df.to_csv('data/text_checkpoint1.csv', index=False)"
   ]
  },
  {
   "cell_type": "markdown",
   "metadata": {},
   "source": [
    "### Normalization - Lemmatization"
   ]
  },
  {
   "cell_type": "markdown",
   "metadata": {},
   "source": [
    "Lemmatization converts word to base form based off of context. It is more accurate than stemming."
   ]
  },
  {
   "cell_type": "code",
   "execution_count": 22,
   "metadata": {},
   "outputs": [],
   "source": [
    "lemmatizer = WordNetLemmatizer()\n",
    "\n",
    "# part of speach tag\n",
    "wordnet_map = {\"N\":wordnet.NOUN, \"V\":wordnet.VERB, \"J\":wordnet.ADJ, \"R\":wordnet.ADV} \n",
    "\n",
    "def lemmatize_words(text):\n",
    "    \"\"\"Function for lemmatization using part of speach tag\"\"\"\n",
    "    pos_tagged_text = nltk.pos_tag(text.split())\n",
    "    return \" \".join([lemmatizer.lemmatize(word, wordnet_map.get(pos[0], wordnet.NOUN)) \n",
    "                     for word, pos in pos_tagged_text])"
   ]
  },
  {
   "cell_type": "code",
   "execution_count": 23,
   "metadata": {},
   "outputs": [],
   "source": [
    "df.loc[:,'text_cln'] = df.loc[:,'text_cln'].apply(lambda x: str(lemmatize_words(x)))"
   ]
  },
  {
   "cell_type": "code",
   "execution_count": 24,
   "metadata": {},
   "outputs": [
    {
     "data": {
      "text/plain": [
       "0     pleasant min walk along the sea front to the w...\n",
       "1     really lovely hotel stay on the very top floor...\n",
       "2     we stay here for four night in october the hot...\n",
       "3     we love stay on the island of lido you need to...\n",
       "4     lovely view out onto the lagoon excellent view...\n",
       "5     it be ok hotel be nice from in and out but roo...\n",
       "6     the hotel staff be very friendly and helpful t...\n",
       "7     nice hotel with very friendly staff and helpfu...\n",
       "8                                                     i\n",
       "9     don t stay here unless you re less than foot t...\n",
       "10    we have absolutely no problem whatsoever with ...\n",
       "11    lovely hotel min walk to the water bus stop on...\n",
       "12    locate on the lido i would recommend this hote...\n",
       "13    great stay close to ferry food not so good nearby\n",
       "14    stay with parent wife twin toddler in two trip...\n",
       "15    this hotel be in lido which be a good choice t...\n",
       "16    it be a min walk to water bus would have like ...\n",
       "17    room be tiny bed saggy bathroom door didn t wo...\n",
       "18    very friendly and helpful with direction know ...\n",
       "19    no shower but jet in the bathtub and my room b...\n",
       "Name: text_cln, dtype: object"
      ]
     },
     "execution_count": 24,
     "metadata": {},
     "output_type": "execute_result"
    }
   ],
   "source": [
    "df['text_cln'].head(20)"
   ]
  },
  {
   "cell_type": "markdown",
   "metadata": {},
   "source": [
    "### Store Text as is for R Analysis"
   ]
  },
  {
   "cell_type": "markdown",
   "metadata": {},
   "source": [
    "Store the text as is for R analyais before removing stop words."
   ]
  },
  {
   "cell_type": "code",
   "execution_count": 25,
   "metadata": {},
   "outputs": [],
   "source": [
    "cln_full_sentence = pd.Series(df['text_cln'], name='cln_full_sentence')"
   ]
  },
  {
   "cell_type": "markdown",
   "metadata": {},
   "source": [
    "### Remove Stop Words"
   ]
  },
  {
   "cell_type": "markdown",
   "metadata": {},
   "source": [
    "Remove words such as \"the,\" \"a,\" \"and,\" \"it,\" \"is\""
   ]
  },
  {
   "cell_type": "code",
   "execution_count": 26,
   "metadata": {},
   "outputs": [],
   "source": [
    "STOPWORDS = set(stopwords.words('english'))\n",
    "\n",
    "def stopwords(text):\n",
    "    \"\"\"Function to remove stopwords\"\"\"\n",
    "    return \" \".join([word for word in str(text).split() if word not in STOPWORDS])"
   ]
  },
  {
   "cell_type": "code",
   "execution_count": 27,
   "metadata": {},
   "outputs": [],
   "source": [
    "# remove stopwrds\n",
    "df.loc[:,'text_cln'] = df.loc[:,'text_cln'].apply(lambda x: str(stopwords(x)))"
   ]
  },
  {
   "cell_type": "code",
   "execution_count": 28,
   "metadata": {},
   "outputs": [
    {
     "data": {
      "text/plain": [
       "0    pleasant min walk along sea front water bus re...\n",
       "1    really lovely hotel stay top floor surprise ja...\n",
       "2    stay four night october hotel staff welcome fr...\n",
       "3    love stay island lido need take water venice g...\n",
       "4    lovely view onto lagoon excellent view staff w...\n",
       "5    ok hotel nice room small pay double bed bat at...\n",
       "6    hotel staff friendly helpful room clean comfor...\n",
       "7    nice hotel friendly staff helpful great choice...\n",
       "8                                                     \n",
       "9    stay unless less foot tall like sleep centiped...\n",
       "Name: text_cln, dtype: object"
      ]
     },
     "execution_count": 28,
     "metadata": {},
     "output_type": "execute_result"
    }
   ],
   "source": [
    "df['text_cln'].head(10)"
   ]
  },
  {
   "cell_type": "markdown",
   "metadata": {},
   "source": [
    "### Rare Words"
   ]
  },
  {
   "cell_type": "markdown",
   "metadata": {},
   "source": [
    "List of 100 rare words in the reviews. These are words that are most likely unique to an individual review and would not occur requently. They will be removed from the text."
   ]
  },
  {
   "cell_type": "code",
   "execution_count": 29,
   "metadata": {},
   "outputs": [],
   "source": [
    "freq = pd.Series(' '.join(df['text_cln']).split()).value_counts()[-100:] # 100 rare words\n",
    "freq = list(freq.index)"
   ]
  },
  {
   "cell_type": "code",
   "execution_count": 30,
   "metadata": {
    "scrolled": true
   },
   "outputs": [
    {
     "data": {
      "text/plain": [
       "['psychological',\n",
       " 'preschool',\n",
       " 'inhouse',\n",
       " 'neth',\n",
       " 'bether',\n",
       " 'antiquing',\n",
       " 'inturotel',\n",
       " 'sens',\n",
       " 'faze',\n",
       " 'wack',\n",
       " 'transpire',\n",
       " 'ge',\n",
       " 'aaaahh',\n",
       " 'submarine',\n",
       " 'resurants',\n",
       " 'regrettable',\n",
       " 'merricks',\n",
       " 'coarse',\n",
       " 'motorize',\n",
       " 'spectatular',\n",
       " 'luminere',\n",
       " 'workth',\n",
       " 'yellowing',\n",
       " 'bea',\n",
       " 'krystie',\n",
       " 'visiters',\n",
       " 'tricked',\n",
       " 'elavator',\n",
       " 'imrovement',\n",
       " 'latina',\n",
       " 'clc',\n",
       " 'heartless',\n",
       " 'historian',\n",
       " 'mored',\n",
       " 'belgin',\n",
       " 'elevatorhandy',\n",
       " 'healthful',\n",
       " 'azul',\n",
       " 'quess',\n",
       " 'annaheim',\n",
       " 'sonic',\n",
       " 'turnstile',\n",
       " 'donkey',\n",
       " 'hylton',\n",
       " 'mcchicken',\n",
       " 'eleventh',\n",
       " 'laqunita',\n",
       " 'hissy',\n",
       " 'epoxy',\n",
       " 'compareable',\n",
       " 'unto',\n",
       " 'wonferful',\n",
       " 'brusque',\n",
       " 'dinginess',\n",
       " 'excelentemente',\n",
       " 'sensibly',\n",
       " 'shanna',\n",
       " 'extortion',\n",
       " 'leeway',\n",
       " 'unloading',\n",
       " 'inconvienant',\n",
       " 'springer',\n",
       " 'experiencein',\n",
       " 'anteroom',\n",
       " 'allergen',\n",
       " 'cornelia',\n",
       " 'friendyest',\n",
       " 'propped',\n",
       " 'cigerate',\n",
       " 'dripping',\n",
       " 'lounce',\n",
       " 'taxing',\n",
       " 'krista',\n",
       " 'facilitator',\n",
       " 'csumb',\n",
       " 'renotivations',\n",
       " 'persistently',\n",
       " 'trackside',\n",
       " 'bogans',\n",
       " 'wkend',\n",
       " 'madrid',\n",
       " 'hana',\n",
       " 'unwinding',\n",
       " 'sugges',\n",
       " 'bertuccis',\n",
       " 'shutdown',\n",
       " 'firecracker',\n",
       " 'marchetta',\n",
       " 'sha',\n",
       " 'soho',\n",
       " 'altough',\n",
       " 'winnipesaukee',\n",
       " 'wheelie',\n",
       " 'hoe',\n",
       " 'hada',\n",
       " 'arraived',\n",
       " 'aversion',\n",
       " 'menehune',\n",
       " 'nationally',\n",
       " 'exended']"
      ]
     },
     "execution_count": 30,
     "metadata": {},
     "output_type": "execute_result"
    }
   ],
   "source": [
    "freq"
   ]
  },
  {
   "cell_type": "code",
   "execution_count": 31,
   "metadata": {},
   "outputs": [
    {
     "data": {
      "text/plain": [
       "0    pleasant min walk along sea front water bus re...\n",
       "1    really lovely hotel stay top floor surprise ja...\n",
       "2    stay four night october hotel staff welcome fr...\n",
       "3    love stay island lido need take water venice g...\n",
       "4    lovely view onto lagoon excellent view staff w...\n",
       "Name: text_cln, dtype: object"
      ]
     },
     "execution_count": 31,
     "metadata": {},
     "output_type": "execute_result"
    }
   ],
   "source": [
    "# if the word is not in the freq list, then keep it in the text_cln.\n",
    "\n",
    "df.loc[:,'text_cln'] = df.loc[:,'text_cln'].apply(lambda x: \" \".join(x for x in x.split() if x not in freq))\n",
    "df['text_cln'].head()"
   ]
  },
  {
   "cell_type": "markdown",
   "metadata": {},
   "source": [
    "### Export Cleaned DF"
   ]
  },
  {
   "cell_type": "code",
   "execution_count": 32,
   "metadata": {},
   "outputs": [],
   "source": [
    "text_clean = df[['text_cln']]\n",
    "\n",
    "hotel_text_cln = pd.concat([hotel_df, cln_full_sentence, text_clean], axis=1)"
   ]
  },
  {
   "cell_type": "code",
   "execution_count": 33,
   "metadata": {},
   "outputs": [],
   "source": [
    "hotel_text_cln.drop(['index'], axis=1, inplace=True)"
   ]
  },
  {
   "cell_type": "code",
   "execution_count": 34,
   "metadata": {},
   "outputs": [
    {
     "data": {
      "text/html": [
       "<div>\n",
       "<style scoped>\n",
       "    .dataframe tbody tr th:only-of-type {\n",
       "        vertical-align: middle;\n",
       "    }\n",
       "\n",
       "    .dataframe tbody tr th {\n",
       "        vertical-align: top;\n",
       "    }\n",
       "\n",
       "    .dataframe thead th {\n",
       "        text-align: right;\n",
       "    }\n",
       "</style>\n",
       "<table border=\"1\" class=\"dataframe\">\n",
       "  <thead>\n",
       "    <tr style=\"text-align: right;\">\n",
       "      <th></th>\n",
       "      <th>hotel_city</th>\n",
       "      <th>latitude</th>\n",
       "      <th>longitude</th>\n",
       "      <th>name</th>\n",
       "      <th>hotel_state</th>\n",
       "      <th>date</th>\n",
       "      <th>rating</th>\n",
       "      <th>text</th>\n",
       "      <th>user_city</th>\n",
       "      <th>user_state</th>\n",
       "      <th>language</th>\n",
       "      <th>score</th>\n",
       "      <th>cln_full_sentence</th>\n",
       "      <th>text_cln</th>\n",
       "    </tr>\n",
       "  </thead>\n",
       "  <tbody>\n",
       "    <tr>\n",
       "      <td>0</td>\n",
       "      <td>Mableton</td>\n",
       "      <td>45.421611</td>\n",
       "      <td>12.376187</td>\n",
       "      <td>Hotel Russo Palace</td>\n",
       "      <td>GA</td>\n",
       "      <td>2013-09-22 00:00:00+00:00</td>\n",
       "      <td>4.0</td>\n",
       "      <td>Pleasant 10 min walk along the sea front to th...</td>\n",
       "      <td>NaN</td>\n",
       "      <td>NaN</td>\n",
       "      <td>('en', -390.9012541770935)</td>\n",
       "      <td>positive</td>\n",
       "      <td>pleasant min walk along sea front water bus re...</td>\n",
       "      <td>pleasant min walk along sea front water bus re...</td>\n",
       "    </tr>\n",
       "    <tr>\n",
       "      <td>1</td>\n",
       "      <td>Mableton</td>\n",
       "      <td>45.421611</td>\n",
       "      <td>12.376187</td>\n",
       "      <td>Hotel Russo Palace</td>\n",
       "      <td>GA</td>\n",
       "      <td>2015-04-03 00:00:00+00:00</td>\n",
       "      <td>5.0</td>\n",
       "      <td>Really lovely hotel. Stayed on the very top fl...</td>\n",
       "      <td>NaN</td>\n",
       "      <td>NaN</td>\n",
       "      <td>('en', -535.3024659156799)</td>\n",
       "      <td>positive</td>\n",
       "      <td>really lovely hotel stay top floor surprise ja...</td>\n",
       "      <td>really lovely hotel stay top floor surprise ja...</td>\n",
       "    </tr>\n",
       "    <tr>\n",
       "      <td>2</td>\n",
       "      <td>Mableton</td>\n",
       "      <td>45.421611</td>\n",
       "      <td>12.376187</td>\n",
       "      <td>Hotel Russo Palace</td>\n",
       "      <td>GA</td>\n",
       "      <td>2013-10-27 00:00:00+00:00</td>\n",
       "      <td>5.0</td>\n",
       "      <td>We stayed here for four nights in October. The...</td>\n",
       "      <td>NaN</td>\n",
       "      <td>NaN</td>\n",
       "      <td>('en', -713.2087678909302)</td>\n",
       "      <td>positive</td>\n",
       "      <td>stay four night october hotel staff welcome fr...</td>\n",
       "      <td>stay four night october hotel staff welcome fr...</td>\n",
       "    </tr>\n",
       "  </tbody>\n",
       "</table>\n",
       "</div>"
      ],
      "text/plain": [
       "  hotel_city   latitude  longitude                name hotel_state  \\\n",
       "0   Mableton  45.421611  12.376187  Hotel Russo Palace          GA   \n",
       "1   Mableton  45.421611  12.376187  Hotel Russo Palace          GA   \n",
       "2   Mableton  45.421611  12.376187  Hotel Russo Palace          GA   \n",
       "\n",
       "                        date  rating  \\\n",
       "0  2013-09-22 00:00:00+00:00     4.0   \n",
       "1  2015-04-03 00:00:00+00:00     5.0   \n",
       "2  2013-10-27 00:00:00+00:00     5.0   \n",
       "\n",
       "                                                text user_city user_state  \\\n",
       "0  Pleasant 10 min walk along the sea front to th...       NaN        NaN   \n",
       "1  Really lovely hotel. Stayed on the very top fl...       NaN        NaN   \n",
       "2  We stayed here for four nights in October. The...       NaN        NaN   \n",
       "\n",
       "                     language     score  \\\n",
       "0  ('en', -390.9012541770935)  positive   \n",
       "1  ('en', -535.3024659156799)  positive   \n",
       "2  ('en', -713.2087678909302)  positive   \n",
       "\n",
       "                                   cln_full_sentence  \\\n",
       "0  pleasant min walk along sea front water bus re...   \n",
       "1  really lovely hotel stay top floor surprise ja...   \n",
       "2  stay four night october hotel staff welcome fr...   \n",
       "\n",
       "                                            text_cln  \n",
       "0  pleasant min walk along sea front water bus re...  \n",
       "1  really lovely hotel stay top floor surprise ja...  \n",
       "2  stay four night october hotel staff welcome fr...  "
      ]
     },
     "execution_count": 34,
     "metadata": {},
     "output_type": "execute_result"
    }
   ],
   "source": [
    "hotel_text_cln.head(3)"
   ]
  },
  {
   "cell_type": "code",
   "execution_count": 35,
   "metadata": {},
   "outputs": [],
   "source": [
    "hotel_text_cln.to_csv('data/hotel_text_cln.csv', index=False)"
   ]
  }
 ],
 "metadata": {
  "kernelspec": {
   "display_name": "Python 3",
   "language": "python",
   "name": "python3"
  },
  "language_info": {
   "codemirror_mode": {
    "name": "ipython",
    "version": 3
   },
   "file_extension": ".py",
   "mimetype": "text/x-python",
   "name": "python",
   "nbconvert_exporter": "python",
   "pygments_lexer": "ipython3",
   "version": "3.7.4"
  }
 },
 "nbformat": 4,
 "nbformat_minor": 2
}
